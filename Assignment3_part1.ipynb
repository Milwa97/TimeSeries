{
 "cells": [
  {
   "cell_type": "markdown",
   "metadata": {},
   "source": [
    "Design a fifth-order digital Butterworth low-pass filter with a sampling frequency of 200 Hz and a passband edge of 60 Hz. Plot the modulus and the phase of the transfer function.\n"
   ]
  },
  {
   "cell_type": "code",
   "execution_count": 1,
   "metadata": {},
   "outputs": [],
   "source": [
    "import sympy\n",
    "from sympy.solvers import solve\n",
    "from sympy import Symbol\n",
    "import matplotlib.pyplot as plt\n",
    "import numpy as np\n",
    "\n",
    "I = sympy.I\n",
    "PI = np.pi"
   ]
  },
  {
   "cell_type": "code",
   "execution_count": 2,
   "metadata": {},
   "outputs": [],
   "source": [
    "N = 5\n",
    "f0 = 60/200\n",
    "\n",
    "f = Symbol('f')\n",
    "z = Symbol('z')\n",
    "\n",
    "f_tab = solve(1+(f/f0)**(2*N), f)\n",
    "f_real = [sympy.re(f) for f in f_tab]\n",
    "f_imag = [sympy.im(f) for f in f_tab]"
   ]
  },
  {
   "cell_type": "code",
   "execution_count": 3,
   "metadata": {},
   "outputs": [
    {
     "data": {
      "image/png": "[encoded data removed]",
      "text/plain": [
       "<Figure size 360x360 with 1 Axes>"
      ]
     },
     "metadata": {
      "needs_background": "light"
     },
     "output_type": "display_data"
    }
   ],
   "source": [
    "fig = plt.figure(figsize = (5,5))\n",
    "ax = fig.add_subplot(1, 1, 1)\n",
    "ax.scatter(f_real, f_imag, color='purple')\n",
    "ax.grid(True)\n",
    "ax.set_title('All possible f')\n",
    "\n",
    "ax.set_xlabel('re(f)')\n",
    "ax.set_ylabel('im(f)')\n",
    "plt.show()"
   ]
  },
  {
   "cell_type": "code",
   "execution_count": 4,
   "metadata": {},
   "outputs": [],
   "source": [
    "numerator = -I * f0**5 * (z+1)**5\n",
    "numerator = sympy.Poly(numerator, z)\n",
    "numerator_coeffs = numerator.coeffs()\n",
    "    \n",
    "f1, f2, f3, f4, f5 = list(filter(lambda f: sympy.im(f) > 0, f_tab))\n",
    "\n",
    "fi_tab = list(filter(lambda f: sympy.im(f) > 0, f_tab))\n",
    "\n",
    "\n",
    "denominator = 1.0\n",
    "for fi in fi_tab:\n",
    "    denominator*= (I*(z-1)-fi*(z+1))\n",
    "denominator = sympy.Poly(denominator, z)\n",
    "denominator_coeffs = denominator.coeffs()"
   ]
  },
  {
   "cell_type": "code",
   "execution_count": 5,
   "metadata": {},
   "outputs": [
    {
     "name": "stdout",
     "output_type": "stream",
     "text": [
      "\n",
      "\n",
      "Numerator normalized coefficients: \n",
      "\n",
      " 0.0009\n",
      "\n",
      " 0.0047\n",
      "\n",
      " 0.0093\n",
      "\n",
      " 0.0093\n",
      "\n",
      " 0.0047\n",
      "\n",
      " 0.0009\n",
      "\n",
      "\n",
      "Denominator normalized coefficients: \n",
      "\n",
      " -0.1466\n",
      "\n",
      " 1.0083\n",
      "\n",
      " -2.8432\n",
      "\n",
      " 4.1320\n",
      "\n",
      " -3.1207\n",
      "\n",
      " 1.00000000000000\n"
     ]
    }
   ],
   "source": [
    "numerator_normalized = sympy.Poly((numerator / denominator_coeffs[-1]), z)\n",
    "denominator_normalized = sympy.Poly((denominator / denominator_coeffs[-1]), z)\n",
    "\n",
    "numerator_normalized_coeffs = numerator_normalized.coeffs()\n",
    "denominator_normalized_coeffs = denominator_normalized.coeffs()\n",
    "\n",
    "print(\"\\n\\nNumerator normalized coefficients: \")\n",
    "\n",
    "for c in numerator_normalized_coeffs:\n",
    "    print(\"\\n\", round(sympy.N(c), 4))\n",
    "    \n",
    "\n",
    "print(\"\\n\\nDenominator normalized coefficients: \")\n",
    "for c in denominator_normalized_coeffs:\n",
    "    print(\"\\n\", round(sympy.N(c), 4))"
   ]
  },
  {
   "cell_type": "code",
   "execution_count": 6,
   "metadata": {
    "scrolled": false
   },
   "outputs": [
    {
     "data": {
      "text/latex": [
       "$\\displaystyle \\frac{0.00093 z^{5} + 0.004651 z^{4} + 0.009303 z^{3} + 0.009303 z^{2} + 0.004651 z + 0.00093}{- 0.146563 z^{5} + 1.008265 z^{4} - 2.843225 z^{3} + 4.132 z^{2} - 3.120708 z + 1.0}$"
      ],
      "text/plain": [
       "(0.00093*z**5 + 0.004651*z**4 + 0.009303*z**3 + 0.009303*z**2 + 0.004651*z + 0.00093)/(-0.146563*z**5 + 1.008265*z**4 - 2.843225*z**3 + 4.132*z**2 - 3.120708*z + 1.0)"
      ]
     },
     "execution_count": 6,
     "metadata": {},
     "output_type": "execute_result"
    }
   ],
   "source": [
    "numerator_clean  = sum(list(map(lambda k, c:  round(sympy.N(c), 6) *z**(N-k), range(N+1), numerator_normalized_coeffs )))\n",
    "denominator_clean  = sum(list(map(lambda k, c:  round(sympy.N(c), 6) *z**(N-k), range(N+1), denominator_normalized_coeffs )))\n",
    "\n",
    "Hf = numerator_clean /denominator_clean\n",
    "Hf"
   ]
  },
  {
   "cell_type": "markdown",
   "metadata": {},
   "source": [
    "\n",
    "$$ H(f_m) = \\frac{\\sum_{k=0}^q \\alpha_k (e^{2\\pi i f_m \\Delta})^k}{1 - \\sum_{j=1}^p \\beta_k  (e^{2\\pi i f_m \\Delta})^j}$$\n",
    "\n",
    "\n",
    "$$H(z) = \\frac{0.00093𝑧^5 + 0.004651 𝑧^4 + 0.009303 𝑧^3 + 0.009303 𝑧^2 +0.004651 𝑧 + 0.00093}{−0.146563 𝑧^5 + 1.008265 𝑧^4 - 2.843225 𝑧^3 + 4.132 𝑧^2 - 3.120708 𝑧 +1.0}$$"
   ]
  },
  {
   "cell_type": "code",
   "execution_count": null,
   "metadata": {},
   "outputs": [],
   "source": []
  }
 ],
 "metadata": {
  "kernelspec": {
   "display_name": "Python 3 (ipykernel)",
   "language": "python",
   "name": "python3"
  },
  "language_info": {
   "codemirror_mode": {
    "name": "ipython",
    "version": 3
   },
   "file_extension": ".py",
   "mimetype": "text/x-python",
   "name": "python",
   "nbconvert_exporter": "python",
   "pygments_lexer": "ipython3",
   "version": "3.9.7"
  }
 },
 "nbformat": 4,
 "nbformat_minor": 4
}
